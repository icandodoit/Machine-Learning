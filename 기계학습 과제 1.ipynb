{
 "cells": [
  {
   "cell_type": "code",
   "execution_count": 26,
   "metadata": {},
   "outputs": [],
   "source": [
    "from sklearn.model_selection import train_test_split\n",
    "from sklearn.preprocessing import StandardScaler\n",
    "from sklearn.linear_model import LogisticRegression\n",
    "from sklearn.ensemble import RandomForestClassifier\n",
    "from sklearn.neighbors import KNeighborsClassifier\n",
    "import numpy as np\n",
    "import pandas as pd\n",
    "import matplotlib\n",
    "import matplotlib.pyplot as plt\n",
    "%matplotlib inline\n",
    "from sklearn import svm\n",
    "from sklearn.svm import SVC\n",
    "from sklearn.metrics import accuracy_score\n",
    "from sklearn.metrics import classification_report"
   ]
  },
  {
   "cell_type": "code",
   "execution_count": 27,
   "metadata": {},
   "outputs": [],
   "source": [
    "letters= pd.read_csv('C:/Python/svm/letterdata.csv' , encoding='utf-8')"
   ]
  },
  {
   "cell_type": "code",
   "execution_count": 28,
   "metadata": {},
   "outputs": [
    {
     "data": {
      "text/html": [
       "<div>\n",
       "<style scoped>\n",
       "    .dataframe tbody tr th:only-of-type {\n",
       "        vertical-align: middle;\n",
       "    }\n",
       "\n",
       "    .dataframe tbody tr th {\n",
       "        vertical-align: top;\n",
       "    }\n",
       "\n",
       "    .dataframe thead th {\n",
       "        text-align: right;\n",
       "    }\n",
       "</style>\n",
       "<table border=\"1\" class=\"dataframe\">\n",
       "  <thead>\n",
       "    <tr style=\"text-align: right;\">\n",
       "      <th></th>\n",
       "      <th>letter</th>\n",
       "      <th>xbox</th>\n",
       "      <th>ybox</th>\n",
       "      <th>width</th>\n",
       "      <th>height</th>\n",
       "      <th>onpix</th>\n",
       "      <th>xbar</th>\n",
       "      <th>ybar</th>\n",
       "      <th>x2bar</th>\n",
       "      <th>y2bar</th>\n",
       "      <th>xybar</th>\n",
       "      <th>x2ybar</th>\n",
       "      <th>xy2bar</th>\n",
       "      <th>xedge</th>\n",
       "      <th>xedgey</th>\n",
       "      <th>yedge</th>\n",
       "      <th>yedgex</th>\n",
       "    </tr>\n",
       "  </thead>\n",
       "  <tbody>\n",
       "    <tr>\n",
       "      <th>0</th>\n",
       "      <td>T</td>\n",
       "      <td>2</td>\n",
       "      <td>8</td>\n",
       "      <td>3</td>\n",
       "      <td>5</td>\n",
       "      <td>1</td>\n",
       "      <td>8</td>\n",
       "      <td>13</td>\n",
       "      <td>0</td>\n",
       "      <td>6</td>\n",
       "      <td>6</td>\n",
       "      <td>10</td>\n",
       "      <td>8</td>\n",
       "      <td>0</td>\n",
       "      <td>8</td>\n",
       "      <td>0</td>\n",
       "      <td>8</td>\n",
       "    </tr>\n",
       "    <tr>\n",
       "      <th>1</th>\n",
       "      <td>I</td>\n",
       "      <td>5</td>\n",
       "      <td>12</td>\n",
       "      <td>3</td>\n",
       "      <td>7</td>\n",
       "      <td>2</td>\n",
       "      <td>10</td>\n",
       "      <td>5</td>\n",
       "      <td>5</td>\n",
       "      <td>4</td>\n",
       "      <td>13</td>\n",
       "      <td>3</td>\n",
       "      <td>9</td>\n",
       "      <td>2</td>\n",
       "      <td>8</td>\n",
       "      <td>4</td>\n",
       "      <td>10</td>\n",
       "    </tr>\n",
       "    <tr>\n",
       "      <th>2</th>\n",
       "      <td>D</td>\n",
       "      <td>4</td>\n",
       "      <td>11</td>\n",
       "      <td>6</td>\n",
       "      <td>8</td>\n",
       "      <td>6</td>\n",
       "      <td>10</td>\n",
       "      <td>6</td>\n",
       "      <td>2</td>\n",
       "      <td>6</td>\n",
       "      <td>10</td>\n",
       "      <td>3</td>\n",
       "      <td>7</td>\n",
       "      <td>3</td>\n",
       "      <td>7</td>\n",
       "      <td>3</td>\n",
       "      <td>9</td>\n",
       "    </tr>\n",
       "    <tr>\n",
       "      <th>3</th>\n",
       "      <td>N</td>\n",
       "      <td>7</td>\n",
       "      <td>11</td>\n",
       "      <td>6</td>\n",
       "      <td>6</td>\n",
       "      <td>3</td>\n",
       "      <td>5</td>\n",
       "      <td>9</td>\n",
       "      <td>4</td>\n",
       "      <td>6</td>\n",
       "      <td>4</td>\n",
       "      <td>4</td>\n",
       "      <td>10</td>\n",
       "      <td>6</td>\n",
       "      <td>10</td>\n",
       "      <td>2</td>\n",
       "      <td>8</td>\n",
       "    </tr>\n",
       "    <tr>\n",
       "      <th>4</th>\n",
       "      <td>G</td>\n",
       "      <td>2</td>\n",
       "      <td>1</td>\n",
       "      <td>3</td>\n",
       "      <td>1</td>\n",
       "      <td>1</td>\n",
       "      <td>8</td>\n",
       "      <td>6</td>\n",
       "      <td>6</td>\n",
       "      <td>6</td>\n",
       "      <td>6</td>\n",
       "      <td>5</td>\n",
       "      <td>9</td>\n",
       "      <td>1</td>\n",
       "      <td>7</td>\n",
       "      <td>5</td>\n",
       "      <td>10</td>\n",
       "    </tr>\n",
       "    <tr>\n",
       "      <th>...</th>\n",
       "      <td>...</td>\n",
       "      <td>...</td>\n",
       "      <td>...</td>\n",
       "      <td>...</td>\n",
       "      <td>...</td>\n",
       "      <td>...</td>\n",
       "      <td>...</td>\n",
       "      <td>...</td>\n",
       "      <td>...</td>\n",
       "      <td>...</td>\n",
       "      <td>...</td>\n",
       "      <td>...</td>\n",
       "      <td>...</td>\n",
       "      <td>...</td>\n",
       "      <td>...</td>\n",
       "      <td>...</td>\n",
       "      <td>...</td>\n",
       "    </tr>\n",
       "    <tr>\n",
       "      <th>19995</th>\n",
       "      <td>D</td>\n",
       "      <td>2</td>\n",
       "      <td>2</td>\n",
       "      <td>3</td>\n",
       "      <td>3</td>\n",
       "      <td>2</td>\n",
       "      <td>7</td>\n",
       "      <td>7</td>\n",
       "      <td>7</td>\n",
       "      <td>6</td>\n",
       "      <td>6</td>\n",
       "      <td>6</td>\n",
       "      <td>4</td>\n",
       "      <td>2</td>\n",
       "      <td>8</td>\n",
       "      <td>3</td>\n",
       "      <td>7</td>\n",
       "    </tr>\n",
       "    <tr>\n",
       "      <th>19996</th>\n",
       "      <td>C</td>\n",
       "      <td>7</td>\n",
       "      <td>10</td>\n",
       "      <td>8</td>\n",
       "      <td>8</td>\n",
       "      <td>4</td>\n",
       "      <td>4</td>\n",
       "      <td>8</td>\n",
       "      <td>6</td>\n",
       "      <td>9</td>\n",
       "      <td>12</td>\n",
       "      <td>9</td>\n",
       "      <td>13</td>\n",
       "      <td>2</td>\n",
       "      <td>9</td>\n",
       "      <td>3</td>\n",
       "      <td>7</td>\n",
       "    </tr>\n",
       "    <tr>\n",
       "      <th>19997</th>\n",
       "      <td>T</td>\n",
       "      <td>6</td>\n",
       "      <td>9</td>\n",
       "      <td>6</td>\n",
       "      <td>7</td>\n",
       "      <td>5</td>\n",
       "      <td>6</td>\n",
       "      <td>11</td>\n",
       "      <td>3</td>\n",
       "      <td>7</td>\n",
       "      <td>11</td>\n",
       "      <td>9</td>\n",
       "      <td>5</td>\n",
       "      <td>2</td>\n",
       "      <td>12</td>\n",
       "      <td>2</td>\n",
       "      <td>4</td>\n",
       "    </tr>\n",
       "    <tr>\n",
       "      <th>19998</th>\n",
       "      <td>S</td>\n",
       "      <td>2</td>\n",
       "      <td>3</td>\n",
       "      <td>4</td>\n",
       "      <td>2</td>\n",
       "      <td>1</td>\n",
       "      <td>8</td>\n",
       "      <td>7</td>\n",
       "      <td>2</td>\n",
       "      <td>6</td>\n",
       "      <td>10</td>\n",
       "      <td>6</td>\n",
       "      <td>8</td>\n",
       "      <td>1</td>\n",
       "      <td>9</td>\n",
       "      <td>5</td>\n",
       "      <td>8</td>\n",
       "    </tr>\n",
       "    <tr>\n",
       "      <th>19999</th>\n",
       "      <td>A</td>\n",
       "      <td>4</td>\n",
       "      <td>9</td>\n",
       "      <td>6</td>\n",
       "      <td>6</td>\n",
       "      <td>2</td>\n",
       "      <td>9</td>\n",
       "      <td>5</td>\n",
       "      <td>3</td>\n",
       "      <td>1</td>\n",
       "      <td>8</td>\n",
       "      <td>1</td>\n",
       "      <td>8</td>\n",
       "      <td>2</td>\n",
       "      <td>7</td>\n",
       "      <td>2</td>\n",
       "      <td>8</td>\n",
       "    </tr>\n",
       "  </tbody>\n",
       "</table>\n",
       "<p>20000 rows × 17 columns</p>\n",
       "</div>"
      ],
      "text/plain": [
       "      letter  xbox  ybox  width  height  onpix  xbar  ybar  x2bar  y2bar  \\\n",
       "0          T     2     8      3       5      1     8    13      0      6   \n",
       "1          I     5    12      3       7      2    10     5      5      4   \n",
       "2          D     4    11      6       8      6    10     6      2      6   \n",
       "3          N     7    11      6       6      3     5     9      4      6   \n",
       "4          G     2     1      3       1      1     8     6      6      6   \n",
       "...      ...   ...   ...    ...     ...    ...   ...   ...    ...    ...   \n",
       "19995      D     2     2      3       3      2     7     7      7      6   \n",
       "19996      C     7    10      8       8      4     4     8      6      9   \n",
       "19997      T     6     9      6       7      5     6    11      3      7   \n",
       "19998      S     2     3      4       2      1     8     7      2      6   \n",
       "19999      A     4     9      6       6      2     9     5      3      1   \n",
       "\n",
       "       xybar  x2ybar  xy2bar  xedge  xedgey  yedge  yedgex  \n",
       "0          6      10       8      0       8      0       8  \n",
       "1         13       3       9      2       8      4      10  \n",
       "2         10       3       7      3       7      3       9  \n",
       "3          4       4      10      6      10      2       8  \n",
       "4          6       5       9      1       7      5      10  \n",
       "...      ...     ...     ...    ...     ...    ...     ...  \n",
       "19995      6       6       4      2       8      3       7  \n",
       "19996     12       9      13      2       9      3       7  \n",
       "19997     11       9       5      2      12      2       4  \n",
       "19998     10       6       8      1       9      5       8  \n",
       "19999      8       1       8      2       7      2       8  \n",
       "\n",
       "[20000 rows x 17 columns]"
      ]
     },
     "execution_count": 28,
     "metadata": {},
     "output_type": "execute_result"
    }
   ],
   "source": [
    "letters"
   ]
  },
  {
   "cell_type": "code",
   "execution_count": 29,
   "metadata": {},
   "outputs": [
    {
     "name": "stdout",
     "output_type": "stream",
     "text": [
      "클래스 레이블: ['A' 'B' 'C' 'D' 'E' 'F' 'G' 'H' 'I' 'J' 'K' 'L' 'M' 'N' 'O' 'P' 'Q' 'R'\n",
      " 'S' 'T' 'U' 'V' 'W' 'X' 'Y' 'Z']\n"
     ]
    }
   ],
   "source": [
    "X = np.array(letters.iloc[:,1:])\n",
    "y = np.array(letters.letter)\n",
    "print('클래스 레이블:',np.unique(y))"
   ]
  },
  {
   "cell_type": "markdown",
   "metadata": {},
   "source": [
    "## splitting the dataset into separate training and test datasets"
   ]
  },
  {
   "cell_type": "code",
   "execution_count": 30,
   "metadata": {},
   "outputs": [],
   "source": [
    "X_train, X_test, y_train, y_test =train_test_split(\n",
    "    X,y,random_state=1,test_size=0.3, stratify=y)\n",
    "\n",
    "sc=StandardScaler()\n",
    "sc.fit(X_train)\n",
    "X_train_std=sc.transform(X_train)\n",
    "X_test_std=sc.transform(X_test)"
   ]
  },
  {
   "cell_type": "markdown",
   "metadata": {},
   "source": [
    "## Standardizing"
   ]
  },
  {
   "cell_type": "code",
   "execution_count": 31,
   "metadata": {},
   "outputs": [],
   "source": [
    "sc=StandardScaler()\n",
    "sc.fit(X_train)\n",
    "X_train_std=sc.transform(X_train)\n",
    "X_test_std=sc.transform(X_test)"
   ]
  },
  {
   "cell_type": "markdown",
   "metadata": {},
   "source": [
    "1. 다음 방법들을 사용하여 분류 문제를 풀어보고 서로 비교하여라.\n",
    "\n",
    " \n",
    "\n",
    "a. 로지스틱 회귀방법\n",
    "\n",
    "b. SVM\n",
    "\n",
    "c. 랜덤 포레스트\n",
    "\n",
    "d. k-NN\n"
   ]
  },
  {
   "cell_type": "markdown",
   "metadata": {},
   "source": [
    "## logistic regression"
   ]
  },
  {
   "cell_type": "code",
   "execution_count": 32,
   "metadata": {},
   "outputs": [
    {
     "data": {
      "text/plain": [
       "LogisticRegression(C=1.0, class_weight=None, dual=False, fit_intercept=True,\n",
       "                   intercept_scaling=1, l1_ratio=None, max_iter=100,\n",
       "                   multi_class='ovr', n_jobs=None, penalty='l2', random_state=1,\n",
       "                   solver='lbfgs', tol=0.0001, verbose=0, warm_start=False)"
      ]
     },
     "execution_count": 32,
     "metadata": {},
     "output_type": "execute_result"
    }
   ],
   "source": [
    "clf1 = LogisticRegression(C=1.0, random_state=1, solver='lbfgs', multi_class='ovr')\n",
    "clf1.fit(X_train_std, y_train)"
   ]
  },
  {
   "cell_type": "code",
   "execution_count": 33,
   "metadata": {},
   "outputs": [
    {
     "name": "stdout",
     "output_type": "stream",
     "text": [
      "Misclassified examples: 1698\n"
     ]
    }
   ],
   "source": [
    "y_pred = clf1.predict(X_test_std)\n",
    "print('Misclassified examples: %d' % (y_test != y_pred).sum())"
   ]
  },
  {
   "cell_type": "code",
   "execution_count": 34,
   "metadata": {},
   "outputs": [
    {
     "name": "stdout",
     "output_type": "stream",
     "text": [
      "Accuracy: 0.717\n"
     ]
    }
   ],
   "source": [
    "from sklearn.metrics import accuracy_score\n",
    "\n",
    "print('Accuracy: %.3f' % accuracy_score(y_test, y_pred))"
   ]
  },
  {
   "cell_type": "markdown",
   "metadata": {},
   "source": [
    "## SVM"
   ]
  },
  {
   "cell_type": "code",
   "execution_count": 35,
   "metadata": {},
   "outputs": [
    {
     "data": {
      "text/plain": [
       "SVC(C=1.0, break_ties=False, cache_size=200, class_weight=None, coef0=0.0,\n",
       "    decision_function_shape='ovr', degree=3, gamma=0.2, kernel='rbf',\n",
       "    max_iter=-1, probability=False, random_state=1, shrinking=True, tol=0.001,\n",
       "    verbose=False)"
      ]
     },
     "execution_count": 35,
     "metadata": {},
     "output_type": "execute_result"
    }
   ],
   "source": [
    "clf2 = SVC(kernel='rbf', random_state=1, gamma=0.2, C=1.0)\n",
    "clf2.fit(X_train_std, y_train)"
   ]
  },
  {
   "cell_type": "code",
   "execution_count": 36,
   "metadata": {},
   "outputs": [
    {
     "name": "stdout",
     "output_type": "stream",
     "text": [
      "Misclassified examples: 240\n"
     ]
    }
   ],
   "source": [
    "y_pred = clf2.predict(X_test_std)\n",
    "print('Misclassified examples: %d' % (y_test != y_pred).sum())"
   ]
  },
  {
   "cell_type": "code",
   "execution_count": 37,
   "metadata": {},
   "outputs": [
    {
     "name": "stdout",
     "output_type": "stream",
     "text": [
      "Accuracy: 0.960\n"
     ]
    }
   ],
   "source": [
    "print('Accuracy: %.3f' % accuracy_score(y_test, y_pred))"
   ]
  },
  {
   "cell_type": "markdown",
   "metadata": {},
   "source": [
    "## random forest"
   ]
  },
  {
   "cell_type": "code",
   "execution_count": 13,
   "metadata": {},
   "outputs": [
    {
     "data": {
      "text/plain": [
       "RandomForestClassifier(bootstrap=True, ccp_alpha=0.0, class_weight=None,\n",
       "                       criterion='gini', max_depth=None, max_features='auto',\n",
       "                       max_leaf_nodes=None, max_samples=None,\n",
       "                       min_impurity_decrease=0.0, min_impurity_split=None,\n",
       "                       min_samples_leaf=1, min_samples_split=2,\n",
       "                       min_weight_fraction_leaf=0.0, n_estimators=100,\n",
       "                       n_jobs=None, oob_score=False, random_state=None,\n",
       "                       verbose=0, warm_start=False)"
      ]
     },
     "execution_count": 13,
     "metadata": {},
     "output_type": "execute_result"
    }
   ],
   "source": [
    "clf3 = RandomForestClassifier()\n",
    "clf3.fit(X_train, y_train)"
   ]
  },
  {
   "cell_type": "code",
   "execution_count": 14,
   "metadata": {},
   "outputs": [
    {
     "name": "stdout",
     "output_type": "stream",
     "text": [
      "Misclassified examples: 251\n"
     ]
    }
   ],
   "source": [
    "y_pred = clf3.predict(X_test)\n",
    "print('Misclassified examples: %d' % (y_test != y_pred).sum())"
   ]
  },
  {
   "cell_type": "code",
   "execution_count": 15,
   "metadata": {},
   "outputs": [
    {
     "name": "stdout",
     "output_type": "stream",
     "text": [
      "Accuracy: 0.958\n"
     ]
    }
   ],
   "source": [
    "print('Accuracy: %.3f' % accuracy_score(y_test, y_pred))"
   ]
  },
  {
   "cell_type": "markdown",
   "metadata": {},
   "source": [
    "## k-NN"
   ]
  },
  {
   "cell_type": "code",
   "execution_count": 16,
   "metadata": {},
   "outputs": [
    {
     "data": {
      "text/plain": [
       "KNeighborsClassifier(algorithm='auto', leaf_size=30, metric='minkowski',\n",
       "                     metric_params=None, n_jobs=None, n_neighbors=5, p=2,\n",
       "                     weights='uniform')"
      ]
     },
     "execution_count": 16,
     "metadata": {},
     "output_type": "execute_result"
    }
   ],
   "source": [
    "clf4 =  KNeighborsClassifier(n_neighbors=5, \n",
    "                           p=2, \n",
    "                           metric='minkowski')\n",
    "clf4.fit(X_train_std, y_train)"
   ]
  },
  {
   "cell_type": "code",
   "execution_count": 17,
   "metadata": {},
   "outputs": [
    {
     "name": "stdout",
     "output_type": "stream",
     "text": [
      "Misclassified examples: 384\n"
     ]
    }
   ],
   "source": [
    "y_pred = clf4.predict(X_test_std)\n",
    "print('Misclassified examples: %d' % (y_test != y_pred).sum())"
   ]
  },
  {
   "cell_type": "code",
   "execution_count": 18,
   "metadata": {},
   "outputs": [
    {
     "name": "stdout",
     "output_type": "stream",
     "text": [
      "Accuracy: 0.936\n"
     ]
    }
   ],
   "source": [
    "print('Accuracy: %.3f' % accuracy_score(y_test, y_pred))"
   ]
  },
  {
   "cell_type": "code",
   "execution_count": 19,
   "metadata": {},
   "outputs": [
    {
     "name": "stdout",
     "output_type": "stream",
     "text": [
      "              precision    recall  f1-score   support\n",
      "\n",
      "           A       0.98      0.97      0.97       237\n",
      "           B       0.87      0.92      0.89       230\n",
      "           C       0.95      0.94      0.94       221\n",
      "           D       0.84      0.96      0.90       241\n",
      "           E       0.92      0.94      0.93       230\n",
      "           F       0.93      0.91      0.92       233\n",
      "           G       0.89      0.91      0.90       232\n",
      "           H       0.85      0.85      0.85       220\n",
      "           I       0.96      0.95      0.95       226\n",
      "           J       0.94      0.93      0.94       224\n",
      "           K       0.91      0.86      0.89       222\n",
      "           L       0.96      0.96      0.96       228\n",
      "           M       0.97      0.96      0.97       238\n",
      "           N       0.96      0.94      0.95       235\n",
      "           O       0.91      0.96      0.93       226\n",
      "           P       0.94      0.95      0.94       241\n",
      "           Q       0.97      0.94      0.95       235\n",
      "           R       0.93      0.90      0.91       227\n",
      "           S       0.95      0.93      0.94       224\n",
      "           T       0.95      0.94      0.95       239\n",
      "           U       0.98      0.96      0.97       244\n",
      "           V       0.95      0.97      0.96       229\n",
      "           W       0.97      0.97      0.97       226\n",
      "           X       0.94      0.90      0.92       236\n",
      "           Y       0.97      0.95      0.96       236\n",
      "           Z       0.98      0.95      0.96       220\n",
      "\n",
      "    accuracy                           0.94      6000\n",
      "   macro avg       0.94      0.94      0.94      6000\n",
      "weighted avg       0.94      0.94      0.94      6000\n",
      "\n"
     ]
    }
   ],
   "source": [
    "print(classification_report(y_test, y_pred))"
   ]
  },
  {
   "cell_type": "markdown",
   "metadata": {},
   "source": [
    "각 분류기의 성능은 SVM, random forest, k-NN, logistic regression 순으로 좋다."
   ]
  },
  {
   "cell_type": "markdown",
   "metadata": {},
   "source": [
    "2. 로지스틱 회귀방법에서 L1 규제를 통한 특성 선택을 시도하고, 랜덤 포레스트를 사용하여 특성 중요도를 계산하고\n",
    "\n",
    "서로 비교하여라.\n"
   ]
  },
  {
   "cell_type": "code",
   "execution_count": 20,
   "metadata": {
    "scrolled": true
   },
   "outputs": [
    {
     "data": {
      "image/png": "[encoded data removed]",
      "text/plain": [
       "<Figure size 432x288 with 1 Axes>"
      ]
     },
     "metadata": {
      "needs_background": "light"
     },
     "output_type": "display_data"
    }
   ],
   "source": [
    "import matplotlib.pyplot as plt\n",
    "\n",
    "fig = plt.figure()\n",
    "ax = plt.subplot(111)\n",
    "    \n",
    "colors = ['blue', 'green', 'red', 'cyan', \n",
    "          'magenta', 'yellow', 'black', \n",
    "          'pink', 'lightgreen', 'lightblue', \n",
    "          'gray', 'indigo', 'orange','coral','gold','plum']\n",
    "\n",
    "weights, params = [], []\n",
    "for c in np.arange(-4., 6.):\n",
    "    lr = LogisticRegression(penalty='l1', C=10.**c, solver='liblinear', \n",
    "                            multi_class='ovr', random_state=0)\n",
    "    lr.fit(X_train_std, y_train)\n",
    "    weights.append(lr.coef_[1])\n",
    "    params.append(10**c)\n",
    "\n",
    "weights = np.array(weights)\n",
    "\n",
    "for column, color in zip(range(weights.shape[1]), colors):\n",
    "    plt.plot(params, weights[:, column],\n",
    "             label=letters.columns[column + 1],\n",
    "             color=color)\n",
    "plt.axhline(0, color='black', linestyle='--', linewidth=3)\n",
    "plt.xlim([10**(-5), 10**5])\n",
    "plt.ylabel('weight coefficient')\n",
    "plt.xlabel('C')\n",
    "plt.xscale('log')\n",
    "plt.legend(loc='upper left')\n",
    "ax.legend(loc='upper center', \n",
    "          bbox_to_anchor=(1.38, 1.03),\n",
    "          ncol=1, fancybox=True)\n",
    "#plt.savefig('images/04_07.png', dpi=300, \n",
    "#            bbox_inches='tight', pad_inches=0.2)\n",
    "plt.show()"
   ]
  },
  {
   "cell_type": "code",
   "execution_count": 21,
   "metadata": {},
   "outputs": [
    {
     "data": {
      "text/plain": [
       "array([[-1.44225072e+00,  4.90388954e-01,  1.88135218e+00,\n",
       "         1.02646807e-01, -1.24880847e+00,  1.10154174e+00,\n",
       "        -8.37376199e-01, -1.34372389e+00, -2.53451351e+00,\n",
       "        -1.47134860e+00, -1.06353253e+00,  1.30013888e+00,\n",
       "        -3.74503443e-01, -2.23648032e-01,  7.11675725e-01,\n",
       "        -1.17384272e+00],\n",
       "       [ 4.49768276e-02,  6.82734608e-02, -1.15758754e+00,\n",
       "        -1.59849288e+00,  1.95874836e+00,  1.35660096e-01,\n",
       "        -9.46096229e-01,  8.02793934e-01,  5.06195922e-01,\n",
       "         8.37176178e-01,  2.86990371e-01, -1.91216051e+00,\n",
       "        -3.00157486e-01, -5.30414310e-01,  1.44443903e+00,\n",
       "         9.51888736e-01],\n",
       "       [ 1.07117695e-01,  6.93753574e-01, -3.58813241e-01,\n",
       "        -1.10439751e+00,  1.63708583e-01,  2.54460206e-01,\n",
       "         1.08648200e+00,  9.44981426e-01,  9.34801945e-01,\n",
       "         9.92829704e-01,  6.79175051e-01,  2.24309717e+00,\n",
       "         7.93694379e-01,  6.46210719e-01,  2.26165699e-02,\n",
       "         9.64514578e-01],\n",
       "       [ 6.54581002e-02,  7.63679129e-01, -1.87770864e+00,\n",
       "        -2.33192519e+00,  2.77009460e+00,  2.70594899e-02,\n",
       "        -1.50709836e+00,  2.18887261e+00,  2.43807618e+00,\n",
       "         1.78964405e+00, -8.63008211e-01, -2.76022082e+00,\n",
       "         7.66697749e-01, -6.17835809e-01, -1.89070765e-01,\n",
       "        -3.31922327e-01],\n",
       "       [-3.47866288e-01,  5.51875053e-01, -9.35229570e-01,\n",
       "        -1.22103156e+00,  1.63980201e+00, -6.53522212e-01,\n",
       "         9.33237058e-01, -9.17045205e-01,  9.72693841e-01,\n",
       "         1.07255427e+00, -4.88755339e-01,  1.30307555e+00,\n",
       "         9.19756037e-02,  7.42223541e-02,  1.20580282e+00,\n",
       "         6.83991367e-01],\n",
       "       [-1.15394863e+00,  3.50012470e-01, -3.16772456e-01,\n",
       "        -4.94882298e-01,  1.36582530e+00, -9.15884407e-01,\n",
       "         7.55207890e-01, -8.57494817e-01, -1.36537789e-01,\n",
       "         1.91000326e+00,  5.34648046e-01, -7.84544359e-01,\n",
       "         9.68823412e-02, -2.11187043e-01,  1.03127159e+00,\n",
       "         2.00020926e-01],\n",
       "       [ 1.64815934e-02,  3.05022439e-01,  7.34280117e-01,\n",
       "        -9.98521380e-01, -2.35591593e-03, -5.78858317e-02,\n",
       "        -5.93599636e-01,  5.85954497e-01, -3.26937132e-01,\n",
       "        -3.48097042e-01,  1.15690106e-01,  6.81602201e-01,\n",
       "        -4.97609854e-01,  3.84687565e-01,  6.65678476e-01,\n",
       "         6.98471969e-01],\n",
       "       [-4.28945229e-01,  4.73257893e-02,  1.38533491e+00,\n",
       "        -1.62487827e+00,  1.14774353e+00,  1.69365183e-01,\n",
       "         3.60026038e-01,  1.15227763e+00,  3.21948434e-02,\n",
       "         1.64422537e-01, -5.24168879e-01,  2.09225912e-01,\n",
       "        -5.32621509e-01, -7.33853389e-02, -5.83580639e-01,\n",
       "        -7.49892915e-02],\n",
       "       [ 4.52053097e-01,  1.12691229e+00, -3.66938626e+00,\n",
       "         6.07218878e-02,  1.64083943e+00,  7.61845243e-02,\n",
       "        -1.22643244e+00, -1.94765679e+00,  1.26918798e-01,\n",
       "         4.41439706e-01,  1.07589750e+00, -1.05189584e+00,\n",
       "        -1.58223464e+00, -3.10656285e-02, -7.09622163e-02,\n",
       "         6.28572006e-01],\n",
       "       [-1.56996389e-01, -1.21699295e+00, -9.70596112e-01,\n",
       "         1.33664397e+00,  6.11337048e-01,  2.04470779e+00,\n",
       "         1.28744039e+00,  2.89478943e-01, -1.06667330e-01,\n",
       "         2.15770483e+00, -6.71422324e-02,  4.18729818e-01,\n",
       "        -9.86902826e-01, -1.31310873e+00,  2.82116126e-01,\n",
       "        -1.08184329e+00],\n",
       "       [-4.84047594e-01, -6.07806251e-02,  1.50808131e+00,\n",
       "        -4.86692389e-01, -8.19511980e-01, -1.55463147e+00,\n",
       "         9.90294871e-02, -1.59639201e+00, -1.57261088e-01,\n",
       "         8.08765833e-02, -4.14433416e-01,  1.03016420e+00,\n",
       "         6.99188332e-01, -2.87053415e-01,  4.93902627e-01,\n",
       "         1.35438555e+00],\n",
       "       [-1.26653285e-01,  1.18400931e+00, -8.27308200e-01,\n",
       "        -1.18224537e+00,  1.63255931e+00, -8.95760049e-01,\n",
       "        -3.05121288e+00, -1.22027387e+00,  1.28885875e+00,\n",
       "        -6.92658596e-01, -3.66643114e-01,  3.45273674e-01,\n",
       "        -2.84834705e-01,  6.23157533e-01, -3.45282552e-01,\n",
       "         1.56080885e-01],\n",
       "       [-5.88007143e-01,  1.04743160e-01,  1.45361095e+00,\n",
       "        -2.47948831e+00,  1.05196029e+00,  4.50124338e-01,\n",
       "         4.92961550e-01,  7.71539822e-01,  7.71753736e-01,\n",
       "        -4.14583841e-01,  1.35695047e-01,  7.65388075e-01,\n",
       "         2.45584325e+00, -2.04848732e+00, -2.06036557e+00,\n",
       "        -3.32756950e-01],\n",
       "       [-1.28478311e+00,  5.63395549e-01,  1.30038925e+00,\n",
       "        -4.53257255e-01, -8.30641681e-01, -7.20326694e-02,\n",
       "         1.29487943e+00,  8.24120255e-01,  5.42049760e-01,\n",
       "         8.02032163e-03, -1.62062129e+00,  1.03223644e-01,\n",
       "         1.44977383e+00,  3.01635074e-03, -1.78780010e+00,\n",
       "        -1.09679553e+00],\n",
       "       [ 5.89038958e-01,  1.50298531e-01, -6.46926848e-01,\n",
       "        -6.43469134e-01,  4.95239795e-01,  2.79326025e-01,\n",
       "         3.35621529e-02,  1.05856915e+00,  2.65246634e-01,\n",
       "         1.56779329e-01, -5.19352797e-01,  8.89056662e-02,\n",
       "        -4.51427075e-02,  7.27997892e-02,  6.14957641e-02,\n",
       "        -2.98599919e-01],\n",
       "       [-1.18385855e-02, -3.99221929e-01, -1.84830460e-01,\n",
       "        -4.85716699e-01,  1.40211694e+00, -4.10335397e-01,\n",
       "        -1.03975606e+00,  1.07594780e+00, -1.94794420e+00,\n",
       "         1.36543857e+00, -3.17559355e-01, -3.09884162e+00,\n",
       "        -8.71649014e-01,  1.42910348e+00,  5.81524885e-01,\n",
       "         5.31221715e-01],\n",
       "       [ 9.14605464e-01, -9.89443176e-01, -7.82150973e-01,\n",
       "         7.65324088e-01,  9.26406057e-02,  1.32920385e+00,\n",
       "        -3.78790269e-01,  3.81720516e-01, -8.38426394e-01,\n",
       "        -1.33899581e+00,  2.25280211e-01,  8.95515272e-01,\n",
       "        -6.35542703e-01, -6.38077923e-02,  8.35537117e-01,\n",
       "         4.76414033e-01],\n",
       "       [-2.44197467e-01,  3.61977744e-01, -3.51622311e-01,\n",
       "        -1.10144999e+00,  7.38771779e-01, -1.04714742e-01,\n",
       "         2.11367020e+00,  1.05049294e-02,  9.47436540e-02,\n",
       "        -6.18797779e-01, -2.36766965e+00, -2.84834709e-01,\n",
       "         3.51645484e-01, -1.28197035e+00,  4.30885579e-01,\n",
       "         1.02509961e+00],\n",
       "       [-1.78098487e-01,  6.50961909e-01,  1.30324451e+00,\n",
       "        -8.80733267e-01, -1.25411510e+00,  7.54912181e-01,\n",
       "        -2.67604690e-01,  1.62911246e-01, -4.05245937e-01,\n",
       "         6.33851806e-02,  2.08588248e-03, -2.08272483e-01,\n",
       "        -1.59959502e+00,  1.27501636e-01,  2.04347464e+00,\n",
       "        -1.94167514e-01],\n",
       "       [ 1.15508342e+00,  8.88370553e-01, -2.53137516e+00,\n",
       "        -1.47938139e+00,  2.56506189e+00,  1.62344073e+00,\n",
       "         3.50154388e+00,  3.71143226e-02,  2.32360864e+00,\n",
       "         3.76905676e-01,  5.59437490e-01,  4.25441261e-01,\n",
       "        -1.55279482e-01, -2.82510380e-02, -6.91544409e-01,\n",
       "        -9.19183485e-01],\n",
       "       [ 1.19571953e+00,  5.71975313e-01, -1.57376937e+00,\n",
       "        -1.97807963e+00,  2.17788024e+00,  7.33247284e-02,\n",
       "        -1.20128460e+00,  1.03273037e+00,  2.51560926e+00,\n",
       "        -8.77862213e-01,  2.08891161e+00,  6.31298316e-01,\n",
       "         4.81958709e-01,  1.71606588e-01, -2.43628107e+00,\n",
       "        -1.13689344e+00],\n",
       "       [ 5.97331879e-02,  1.03291644e+00, -1.44101502e-01,\n",
       "        -1.00086646e+00,  4.23525946e-01, -2.28741227e-01,\n",
       "         6.64754338e-01, -2.76743780e-01, -1.40963414e+00,\n",
       "        -4.34389895e-01,  2.86874828e+00, -7.42751138e-01,\n",
       "         2.07784092e-01,  2.08794687e-01,  8.57076920e-01,\n",
       "         6.07710142e-01],\n",
       "       [-1.91067127e-01, -5.42119351e-02, -3.40399448e-02,\n",
       "        -7.43440534e-01,  7.03893381e-01, -9.12700094e-01,\n",
       "        -1.39945289e-01, -6.71899002e-01, -1.69671348e+00,\n",
       "        -5.24891978e-01,  6.99380044e-01, -8.83513240e-01,\n",
       "         2.35182172e+00,  1.20504064e+00, -1.36174052e+00,\n",
       "        -3.72865129e-02],\n",
       "       [-9.59652983e-01,  3.45323523e-01,  2.06476748e+00,\n",
       "        -7.47957516e-02, -2.94336185e+00,  1.31801447e-02,\n",
       "        -1.74960392e-01, -2.34311030e+00,  4.00163587e-01,\n",
       "        -7.84183359e-01,  1.39991889e-01, -1.34850112e-01,\n",
       "         1.11831785e+00, -5.30561959e-02,  1.67044218e+00,\n",
       "        -7.05165898e-03],\n",
       "       [ 5.04031857e-01, -9.19046553e-01, -2.09584052e-01,\n",
       "         5.94325870e-01, -2.37768556e-03, -1.39800554e-01,\n",
       "        -1.45060423e+00, -1.71067798e+00, -6.02974580e-01,\n",
       "        -1.02324349e+00,  2.79965645e+00, -3.10190456e-01,\n",
       "        -1.80727113e+00,  2.06180856e+00,  1.26630506e+00,\n",
       "        -1.46608754e+00],\n",
       "       [-4.79459684e-01, -1.42252664e+00, -8.06689298e-01,\n",
       "         4.10688179e-01,  8.64048579e-01,  1.86829602e+00,\n",
       "        -2.11321189e-01, -8.56909902e-01,  2.65808536e+00,\n",
       "         2.18642906e+00,  1.15990196e-01,  6.74478592e-02,\n",
       "        -8.00337673e-01,  2.66203913e-02,  3.47074733e+00,\n",
       "        -7.60707420e-01]])"
      ]
     },
     "execution_count": 21,
     "metadata": {},
     "output_type": "execute_result"
    }
   ],
   "source": [
    "lr.coef_"
   ]
  },
  {
   "cell_type": "code",
   "execution_count": 22,
   "metadata": {},
   "outputs": [
    {
     "name": "stdout",
     "output_type": "stream",
     "text": [
      "Training accuracy: 0.7307142857142858\n",
      "Test accuracy: 0.7165\n"
     ]
    }
   ],
   "source": [
    "print('Training accuracy:', lr.score(X_train_std, y_train))\n",
    "print('Test accuracy:', lr.score(X_test_std, y_test))"
   ]
  },
  {
   "cell_type": "markdown",
   "metadata": {},
   "source": [
    "변수 yedge, height, yedgex, xy2bar 들이 가중치가 높은 변수라고 볼 수 있다."
   ]
  },
  {
   "cell_type": "code",
   "execution_count": 23,
   "metadata": {},
   "outputs": [
    {
     "name": "stdout",
     "output_type": "stream",
     "text": [
      " 1) xedge                          0.117627\n",
      " 2) yedge                          0.099983\n",
      " 3) y2bar                          0.092682\n",
      " 4) xy2bar                         0.085247\n",
      " 5) x2bar                          0.083833\n",
      " 6) x2ybar                         0.080698\n",
      " 7) xedgey                         0.073263\n",
      " 8) xybar                          0.072487\n",
      " 9) ybar                           0.068951\n",
      "10) yedgex                         0.053845\n",
      "11) xbar                           0.052704\n",
      "12) onpix                          0.026875\n",
      "13) ybox                           0.025452\n",
      "14) width                          0.023397\n",
      "15) xbox                           0.022285\n",
      "16) height                         0.020671\n"
     ]
    },
    {
     "data": {
      "image/png": "[encoded data removed]",
      "text/plain": [
       "<Figure size 432x288 with 1 Axes>"
      ]
     },
     "metadata": {
      "needs_background": "light"
     },
     "output_type": "display_data"
    }
   ],
   "source": [
    "from sklearn.ensemble import RandomForestClassifier\n",
    "\n",
    "feat_labels = letters.columns[1:]\n",
    "\n",
    "forest = RandomForestClassifier(n_estimators=500,\n",
    "                                random_state=1)\n",
    "\n",
    "forest.fit(X_train, y_train)\n",
    "importances = forest.feature_importances_\n",
    "\n",
    "indices = np.argsort(importances)[::-1]\n",
    "\n",
    "for f in range(X_train.shape[1]):\n",
    "    print(\"%2d) %-*s %f\" % (f + 1, 30, \n",
    "                            feat_labels[indices[f]], \n",
    "                            importances[indices[f]]))\n",
    "\n",
    "plt.title('Feature Importance')\n",
    "plt.bar(range(X_train.shape[1]), \n",
    "        importances[indices],\n",
    "        align='center')\n",
    "\n",
    "plt.xticks(range(X_train.shape[1]), \n",
    "           feat_labels[indices], rotation=90)\n",
    "plt.xlim([-1, X_train.shape[1]])\n",
    "plt.tight_layout()\n",
    "#plt.savefig('images/04_09.png', dpi=300)\n",
    "plt.show()"
   ]
  },
  {
   "cell_type": "code",
   "execution_count": 24,
   "metadata": {},
   "outputs": [
    {
     "name": "stdout",
     "output_type": "stream",
     "text": [
      "Number of features that meet this threshold criterion: 6\n"
     ]
    }
   ],
   "source": [
    "from sklearn.feature_selection import SelectFromModel\n",
    "\n",
    "sfm = SelectFromModel(forest, threshold=0.08, prefit=True)\n",
    "X_selected = sfm.transform(X_train)\n",
    "print('Number of features that meet this threshold criterion:', \n",
    "      X_selected.shape[1])"
   ]
  },
  {
   "cell_type": "code",
   "execution_count": 25,
   "metadata": {},
   "outputs": [
    {
     "name": "stdout",
     "output_type": "stream",
     "text": [
      " 1) xedge                          0.117627\n",
      " 2) yedge                          0.099983\n",
      " 3) y2bar                          0.092682\n",
      " 4) xy2bar                         0.085247\n",
      " 5) x2bar                          0.083833\n",
      " 6) x2ybar                         0.080698\n"
     ]
    }
   ],
   "source": [
    "for f in range(X_selected.shape[1]):\n",
    "    print(\"%2d) %-*s %f\" % (f + 1, 30, \n",
    "                            feat_labels[indices[f]], \n",
    "                            importances[indices[f]]))"
   ]
  },
  {
   "cell_type": "markdown",
   "metadata": {},
   "source": [
    "변수 xedge, yedge, y2bar, xy2bar, x2bar, x2ybar 순으로 가중치가 높은 변수라고 볼 수 있다."
   ]
  }
 ],
 "metadata": {
  "kernelspec": {
   "display_name": "Python 3",
   "language": "python",
   "name": "python3"
  },
  "language_info": {
   "codemirror_mode": {
    "name": "ipython",
    "version": 3
   },
   "file_extension": ".py",
   "mimetype": "text/x-python",
   "name": "python",
   "nbconvert_exporter": "python",
   "pygments_lexer": "ipython3",
   "version": "3.7.6"
  }
 },
 "nbformat": 4,
 "nbformat_minor": 4
}
